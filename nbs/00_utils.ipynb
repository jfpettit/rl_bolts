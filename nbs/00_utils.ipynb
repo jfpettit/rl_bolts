{
 "cells": [
  {
   "cell_type": "code",
   "execution_count": 1,
   "metadata": {},
   "outputs": [],
   "source": [
    "# default_exp utils "
   ]
  },
  {
   "cell_type": "markdown",
   "metadata": {},
   "source": [
    "# utils \n",
    "\n",
    "> General useful utility functions. "
   ]
  },
  {
   "cell_type": "code",
   "execution_count": 2,
   "metadata": {},
   "outputs": [],
   "source": [
    "#hide\n",
    "from nbdev import *\n",
    "from nbdev.showdoc import *"
   ]
  },
  {
   "cell_type": "code",
   "execution_count": 3,
   "metadata": {},
   "outputs": [],
   "source": [
    "%nbdev_export\n",
    "import numpy as np\n",
    "import torch\n",
    "import torch.optim as optim\n",
    "import torch.nn as nn\n",
    "import torch.nn.functional as F\n",
    "from scipy import signal\n",
    "import gym\n",
    "from gym import wrappers\n",
    "import math\n",
    "import scipy\n",
    "import matplotlib.pyplot as plt\n",
    "from matplotlib import animation\n",
    "from typing import Optional\n",
    "from pathlib import Path\n",
    "import time\n",
    "import pickle as pkl\n",
    "import os\n",
    "\n",
    "color2num = dict(\n",
    "    gray=30,\n",
    "    red=31,\n",
    "    green=32,\n",
    "    yellow=33,\n",
    "    blue=34,\n",
    "    magenta=35,\n",
    "    cyan=36,\n",
    "    white=37,\n",
    "    crimson=38,\n",
    ")"
   ]
  },
  {
   "cell_type": "code",
   "execution_count": 4,
   "metadata": {},
   "outputs": [],
   "source": [
    "%nbdev_export\n",
    "def colorize(\n",
    "    string: str,\n",
    "    color: int,\n",
    "    bold: Optional[bool] = False,\n",
    "    highlight: Optional[bool] = False,\n",
    "):\n",
    "    \"\"\"\n",
    "    Colorize a string.\n",
    "    This function was originally written by John Schulman.\n",
    "    \"\"\"\n",
    "    attr = []\n",
    "    num = color2num[color]\n",
    "    if highlight:\n",
    "        num += 10\n",
    "    attr.append(str(num))\n",
    "    if bold:\n",
    "        attr.append(\"1\")\n",
    "    return \"\\x1b[%sm%s\\x1b[0m\" % (\";\".join(attr), string)"
   ]
  },
  {
   "cell_type": "code",
   "execution_count": 5,
   "metadata": {},
   "outputs": [
    {
     "data": {
      "text/markdown": [
       "<h4 id=\"colorize\" class=\"doc_header\"><code>colorize</code><a href=\"__main__.py#L2\" class=\"source_link\" style=\"float:right\">[source]</a></h4>\n",
       "\n",
       "> <code>colorize</code>(**`string`**:`str`, **`color`**:`int`, **`bold`**:`Optional`\\[`bool`\\]=*`False`*, **`highlight`**:`Optional`\\[`bool`\\]=*`False`*)\n",
       "\n",
       "Colorize a string.\n",
       "This function was originally written by John Schulman."
      ],
      "text/plain": [
       "<IPython.core.display.Markdown object>"
      ]
     },
     "metadata": {},
     "output_type": "display_data"
    }
   ],
   "source": [
    "show_doc(colorize)"
   ]
  },
  {
   "cell_type": "code",
   "execution_count": 6,
   "metadata": {},
   "outputs": [],
   "source": [
    "%nbdev_export\n",
    "def calc_logstd_anneal(n_anneal_cycles: int, anneal_start: float, anneal_end: float, epochs: int) -> np.ndarray:\n",
    "    \"\"\"\n",
    "    Calculate log standard deviation annealing schedule. Can be used in PG algorithms on continuous action spaces.\n",
    "\n",
    "    Args:\n",
    "    - n_anneal_cycles (int): How many times to cycle from anneal_start to anneal_end over the training epochs.\n",
    "    - anneal_start (float): Starting log standard deviation value.\n",
    "    - anneal_end (float): Ending log standard deviation value.\n",
    "    - epochs (int): Number of training cycles.\n",
    "\n",
    "    Returns:\n",
    "    - logstds (NumPy array): Log standard deviations for each training epoch.\n",
    "    \"\"\"\n",
    "    if n_anneal_cycles > 0:\n",
    "        logstds = np.linspace(anneal_start, anneal_end, num=epochs // n_anneal_cycles)\n",
    "        for _ in range(n_anneal_cycles):\n",
    "            logstds = np.hstack((logstds, logstds))\n",
    "    else:\n",
    "        logstds = np.linspace(anneal_start, anneal_end, num=epochs)\n",
    "\n",
    "    return logstds"
   ]
  },
  {
   "cell_type": "code",
   "execution_count": 7,
   "metadata": {},
   "outputs": [
    {
     "data": {
      "text/markdown": [
       "<h4 id=\"calc_logstd_anneal\" class=\"doc_header\"><code>calc_logstd_anneal</code><a href=\"__main__.py#L2\" class=\"source_link\" style=\"float:right\">[source]</a></h4>\n",
       "\n",
       "> <code>calc_logstd_anneal</code>(**`n_anneal_cycles`**:`int`, **`anneal_start`**:`float`, **`anneal_end`**:`float`, **`epochs`**:`int`)\n",
       "\n",
       "Calculate log standard deviation annealing schedule. Can be used in PG algorithms on continuous action spaces.\n",
       "\n",
       "Args:\n",
       "- n_anneal_cycles (int): How many times to cycle from anneal_start to anneal_end over the training epochs.\n",
       "- anneal_start (float): Starting log standard deviation value.\n",
       "- anneal_end (float): Ending log standard deviation value.\n",
       "- epochs (int): Number of training cycles.\n",
       "\n",
       "Returns:\n",
       "- logstds (NumPy array): Log standard deviations for each training epoch."
      ],
      "text/plain": [
       "<IPython.core.display.Markdown object>"
      ]
     },
     "metadata": {},
     "output_type": "display_data"
    }
   ],
   "source": [
    "show_doc(calc_logstd_anneal)"
   ]
  },
  {
   "cell_type": "code",
   "execution_count": 8,
   "metadata": {},
   "outputs": [],
   "source": [
    "%nbdev_export\n",
    "def save_frames_as_gif(frames, filename=None):\n",
    "    \"\"\"\n",
    "    Save a list of frames as a gif\n",
    "\n",
    "    This code from this floydhub blog post: https://blog.floydhub.com/spinning-up-with-deep-reinforcement-learning/\n",
    "    \"\"\"\n",
    "    # patch = plt.imshow(frames[0])\n",
    "    fig = plt.figure()\n",
    "    plt.axis(\"off\")\n",
    "\n",
    "    def animate(i):\n",
    "        patch.set_data(frames[i])\n",
    "\n",
    "    # anim = animation.FuncAnimation(plt.gcf(), animate, frames = len(frames), interval=50)\n",
    "    anim = animation.ArtistAnimation(fig, frames, interval=50)\n",
    "    if filename:\n",
    "        anim.save(filename, writer=\"imagemagick\")"
   ]
  },
  {
   "cell_type": "code",
   "execution_count": 9,
   "metadata": {},
   "outputs": [
    {
     "data": {
      "text/markdown": [
       "<h4 id=\"save_frames_as_gif\" class=\"doc_header\"><code>save_frames_as_gif</code><a href=\"__main__.py#L2\" class=\"source_link\" style=\"float:right\">[source]</a></h4>\n",
       "\n",
       "> <code>save_frames_as_gif</code>(**`frames`**, **`filename`**=*`None`*)\n",
       "\n",
       "Save a list of frames as a gif\n",
       "\n",
       "This code from this floydhub blog post: https://blog.floydhub.com/spinning-up-with-deep-reinforcement-learning/"
      ],
      "text/plain": [
       "<IPython.core.display.Markdown object>"
      ]
     },
     "metadata": {},
     "output_type": "display_data"
    }
   ],
   "source": [
    "show_doc(save_frames_as_gif)"
   ]
  },
  {
   "cell_type": "code",
   "execution_count": 10,
   "metadata": {},
   "outputs": [],
   "source": [
    "%nbdev_export\n",
    "def _discount_cumsum(x: np.array, discount: float):\n",
    "    \"\"\"\n",
    "    magic from rllab for computing discounted cumulative sums of vectors.\n",
    "\n",
    "    input:\n",
    "        vector x,\n",
    "        [x0,\n",
    "        x1,\n",
    "        x2]\n",
    "\n",
    "    output:\n",
    "        [x0 + discount * x1 + discount^2 * x2,\n",
    "        x1 + discount * x2,\n",
    "        x2]\n",
    "    \"\"\"\n",
    "    return scipy.signal.lfilter([1], [1, float(-discount)], x[::-1], axis=0)[::-1]"
   ]
  },
  {
   "cell_type": "code",
   "execution_count": 11,
   "metadata": {},
   "outputs": [],
   "source": [
    "%nbdev_export\n",
    "def conv2d_output_size(kernel_size, stride, sidesize):\n",
    "    \"\"\"Calculate output size of Conv2D layer given kernel_size, stride, and size of one side of input image. Assumes square input image.\"\"\"\n",
    "    return (sidesize - (kernel_size - 1) - 1) // stride + 1\n",
    "\n",
    "def num2tuple(num):\n",
    "    \"\"\"Convert an input number to a tuple of (num, num).\"\"\"\n",
    "    return num if isinstance(num, tuple) else (num, num)\n",
    "\n",
    "def conv2d_output_shape(\n",
    "    h_w: tuple,\n",
    "    kernel_size: Optional[int] = 1,\n",
    "    stride: Optional[int] = 1,\n",
    "    pad: Optional[int] = 0,\n",
    "    dilation: Optional[int] = 1\n",
    "    ):\n",
    "    \"\"\"\n",
    "    Calculate output shape of a Conv2D layer.\n",
    "\n",
    "    Args:\n",
    "    - h_w (tuple): tuple of input height and width\n",
    "    - kernel_size (int): size of kernel\n",
    "    - stride (int): kernel stride\n",
    "    - pad (int): padding\n",
    "    - dilation (int): dilation applied\n",
    "\n",
    "    Returns:\n",
    "    - h (int): height of output\n",
    "    - w (int): width of output\n",
    "    \"\"\"\n",
    "    h_w, kernel_size, stride, pad, dilation = num2tuple(h_w), \\\n",
    "        num2tuple(kernel_size), num2tuple(stride), num2tuple(pad), num2tuple(dilation)\n",
    "    pad = num2tuple(pad[0]), num2tuple(pad[1])\n",
    "\n",
    "    h = math.floor((h_w[0] + sum(pad[0]) - dilation[0]*(kernel_size[0]-1) - 1) / stride[0] + 1)\n",
    "    w = math.floor((h_w[1] + sum(pad[1]) - dilation[1]*(kernel_size[1]-1) - 1) / stride[1] + 1)\n",
    "\n",
    "    return h, w\n",
    "\n",
    "def convtransp2d_output_shape(\n",
    "    h_w: tuple,\n",
    "    kernel_size: Optional[int] = 1,\n",
    "    stride: Optional[int] = 1,\n",
    "    pad: Optional[int] = 0,\n",
    "    dilation: Optional[int] = 1,\n",
    "    out_pad: Optional[int] = 0\n",
    "    ):\n",
    "    \"\"\"\n",
    "    Calculate output shape of a ConvTranspose2D layer.\n",
    "\n",
    "    Args:\n",
    "    - h_w (tuple): tuple of input height and width\n",
    "    - kernel_size (int): size of kernel\n",
    "    - stride (int): kernel stride\n",
    "    - pad (int): padding\n",
    "    - dilation (int): dilation applied\n",
    "    - out_pad (int): output padding\n",
    "\n",
    "    Returns:\n",
    "    - h (int): height of output\n",
    "    - w (int): width of output\n",
    "    \"\"\"\n",
    "    h_w, kernel_size, stride, pad, dilation, out_pad = num2tuple(h_w), \\\n",
    "        num2tuple(kernel_size), num2tuple(stride), num2tuple(pad), num2tuple(dilation), num2tuple(out_pad)\n",
    "    pad = num2tuple(pad[0]), num2tuple(pad[1])\n",
    "\n",
    "    h = (h_w[0] - 1)*stride[0] - sum(pad[0]) + dialation[0]*(kernel_size[0]-1) + out_pad[0] + 1\n",
    "    w = (h_w[1] - 1)*stride[1] - sum(pad[1]) + dialation[1]*(kernel_size[1]-1) + out_pad[1] + 1\n",
    "\n",
    "    return h, w"
   ]
  },
  {
   "cell_type": "code",
   "execution_count": 12,
   "metadata": {},
   "outputs": [],
   "source": [
    "%nbdev_export\n",
    "class Saver:\n",
    "    r\"\"\"\n",
    "    A class to pickle generic Python objects saved over a model's training cycle.\n",
    "\n",
    "    Args:\n",
    "    - out_dir (str): Directory to save to.\n",
    "    - keys (list): Keys to initialize the save dictionary with.\n",
    "    \"\"\"\n",
    "    def __init__(self, out_dir: str, keys: Optional[list] = []):\n",
    "        self.out_path = Path(out_dir)\n",
    "        os.makedirs(self.out_path, exist_ok=True)\n",
    "        self.saver_dict = {k: [] for k in keys} if len(keys) > 0 else {}\n",
    "\n",
    "    def store(self, **kwargs):\n",
    "        \"\"\"Store input kwargs in save dictionary.\"\"\"\n",
    "        for k, v in kwargs.items():\n",
    "            if k not in self.saver_dict.keys():\n",
    "                self.saver_dict[k] = [v]\n",
    "            else:\n",
    "                self.saver_dict[k].append(v)\n",
    "\n",
    "    def save(self):\n",
    "        \"\"\"Write save dictionary to .pkl file.\"\"\"\n",
    "        ct = time.time()\n",
    "        if len(self.saver_dict) > 0:\n",
    "            pkl.dump(\n",
    "                self.saver_dict,\n",
    "                open(\n",
    "                    self.out_path / f\"saver_out_{ct}.pkl\", \"wb\"\n",
    "                ),\n",
    "            )"
   ]
  },
  {
   "cell_type": "code",
   "execution_count": 15,
   "metadata": {},
   "outputs": [
    {
     "name": "stdout",
     "output_type": "stream",
     "text": [
      "Converted 00_utils.ipynb.\n",
      "Converted 01_datasets.ipynb.\n",
      "Converted 02_buffers.ipynb.\n",
      "Converted 03_neuralnets.ipynb.\n",
      "Converted index.ipynb.\n"
     ]
    }
   ],
   "source": [
    "#hide\n",
    "notebook2script()"
   ]
  },
  {
   "cell_type": "code",
   "execution_count": null,
   "metadata": {},
   "outputs": [],
   "source": []
  }
 ],
 "metadata": {
  "kernelspec": {
   "display_name": "Python 3",
   "language": "python",
   "name": "python3"
  },
  "language_info": {
   "codemirror_mode": {
    "name": "ipython",
    "version": 3
   },
   "file_extension": ".py",
   "mimetype": "text/x-python",
   "name": "python",
   "nbconvert_exporter": "python",
   "pygments_lexer": "ipython3",
   "version": "3.7.7"
  }
 },
 "nbformat": 4,
 "nbformat_minor": 4
}
