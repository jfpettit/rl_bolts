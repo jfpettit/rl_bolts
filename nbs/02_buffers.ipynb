{
 "cells": [
  {
   "cell_type": "code",
   "execution_count": null,
   "metadata": {},
   "outputs": [],
   "source": [
    "# default_exp buffers"
   ]
  },
  {
   "cell_type": "markdown",
   "metadata": {},
   "source": [
    "# buffers\n",
    "\n",
    "> This module contains buffers useful for developing RL agents."
   ]
  },
  {
   "cell_type": "code",
   "execution_count": null,
   "metadata": {},
   "outputs": [],
   "source": [
    "#hide\n",
    "from nbdev import *\n",
    "%load_ext autoreload\n",
    "%autoreload 2"
   ]
  },
  {
   "cell_type": "code",
   "execution_count": null,
   "metadata": {},
   "outputs": [],
   "source": [
    "%nbdev_export\n",
    "import numpy as np\n",
    "import scipy\n",
    "from typing import Optional, Any, Union\n",
    "import torch"
   ]
  },
  {
   "cell_type": "code",
   "execution_count": null,
   "metadata": {},
   "outputs": [],
   "source": [
    "%nbdev_export\n",
    "class PGBuffer:\n",
    "    \"\"\"\n",
    "    A buffer for storing trajectories experienced by an agent interacting\n",
    "    with the environment, and using Generalized Advantage Estimation (GAE-Lambda)\n",
    "    for calculating the advantages of state-action pairs.\n",
    "\n",
    "    This class was written by Joshua Achaim at OpenAI.\n",
    "\n",
    "    Args:\n",
    "    - obs_dim (tuple or int): Dimensionality of input feature space.\n",
    "    - act_dim (tuple or int): Dimensionality of action space.\n",
    "    - size (int): buffer size.\n",
    "    - gamma (float): reward discount factor.\n",
    "    - lam (float): Lambda parameter for GAE-Lambda advantage estimation\n",
    "    \"\"\"\n",
    "    def __init__(\n",
    "        self,\n",
    "        obs_dim: Union[tuple, int],\n",
    "        act_dim: Union[tuple, int],\n",
    "        size: int,\n",
    "        gamma: Optional[float] = 0.99,\n",
    "        lam: Optional[float] = 0.95,\n",
    "    ):\n",
    "        self.obs_buf = np.zeros(self._combined_shape(size, obs_dim), dtype=np.float32)\n",
    "        self.act_buf = np.zeros(self._combined_shape(size, act_dim), dtype=np.float32)\n",
    "        self.adv_buf = np.zeros(size, dtype=np.float32)\n",
    "        self.rew_buf = np.zeros(size, dtype=np.float32)\n",
    "        self.ret_buf = np.zeros(size, dtype=np.float32)\n",
    "        self.val_buf = np.zeros(size, dtype=np.float32)\n",
    "        self.logp_buf = np.zeros(size, dtype=np.float32)\n",
    "        self.gamma, self.lam = gamma, lam\n",
    "        self.ptr, self.path_start_idx, self.max_size = 0, 0, size\n",
    "\n",
    "    def store(\n",
    "        self,\n",
    "        obs: np.array,\n",
    "        act: np.array,\n",
    "        rew: Union[int, float, np.array],\n",
    "        val: Union[int, float, np.array],\n",
    "        logp: Union[float, np.array],\n",
    "    ):\n",
    "        \"\"\"\n",
    "        Append one timestep of agent-environment interaction to the buffer.\n",
    "\n",
    "        Args:\n",
    "        - obs (np.array): Current observation to store.\n",
    "        - act (np.array): Current action.\n",
    "        - rew (int or float or np.array): Current reward from environment.\n",
    "        - val (int or float or np.array): Value estimate for the current state.\n",
    "        - logp (float or np.array): log probability of chosen action under current policy distribution.\n",
    "        \"\"\"\n",
    "        assert self.ptr < self.max_size  # buffer has to have room so you can store\n",
    "        self.obs_buf[self.ptr] = obs\n",
    "        self.act_buf[self.ptr] = act\n",
    "        self.rew_buf[self.ptr] = rew\n",
    "        self.val_buf[self.ptr] = val\n",
    "        self.logp_buf[self.ptr] = logp\n",
    "        self.ptr += 1\n",
    "\n",
    "    def finish_path(self, last_val: Optional[Union[int, float, np.array]] = 0):\n",
    "        \"\"\"\n",
    "        Call this at the end of a trajectory, or when one gets cut off\n",
    "        by an epoch ending. This looks back in the buffer to where the\n",
    "        trajectory started, and uses rewards and value estimates from\n",
    "        the whole trajectory to compute advantage estimates with GAE-Lambda,\n",
    "        as well as compute the rewards-to-go for each state, to use as\n",
    "        the targets for the value function.\n",
    "        The \"last_val\" argument should be 0 if the trajectory ended\n",
    "        because the agent reached a terminal state (died), and otherwise\n",
    "        should be V(s_T), the value function estimated for the last state.\n",
    "        This allows us to bootstrap the reward-to-go calculation to account\n",
    "        for timesteps beyond the arbitrary episode horizon (or epoch cutoff).\n",
    "\n",
    "        Args:\n",
    "        - last_val (int or float or np.array): Estimate of rewards-to-go. If trajectory ended, is 0.\n",
    "        \"\"\"\n",
    "\n",
    "        path_slice = slice(self.path_start_idx, self.ptr)\n",
    "        rews = np.append(self.rew_buf[path_slice], last_val)\n",
    "        vals = np.append(self.val_buf[path_slice], last_val)\n",
    "\n",
    "        # the next two lines implement GAE-Lambda advantage calculation\n",
    "        deltas = rews[:-1] + self.gamma * vals[1:] - vals[:-1]\n",
    "        self.adv_buf[path_slice] = self._discount_cumsum(deltas, self.gamma * self.lam)\n",
    "\n",
    "        # the next line computes rewards-to-go, to be targets for the value function\n",
    "        self.ret_buf[path_slice] = self._discount_cumsum(rews, self.gamma)[:-1]\n",
    "\n",
    "        self.path_start_idx = self.ptr\n",
    "\n",
    "    def get(self):\n",
    "        \"\"\"\n",
    "        Call this at the end of an epoch to get all of the data from\n",
    "        the buffer, with advantages appropriately normalized (shifted to have\n",
    "        mean zero and std one). Also, resets some pointers in the buffer.\n",
    "        \"\"\"\n",
    "        assert self.ptr == self.max_size  # buffer has to be full before you can get\n",
    "        self.ptr, self.path_start_idx = 0, 0\n",
    "        # the next two lines implement the advantage normalization trick\n",
    "        adv_mean, adv_std = mpi_statistics_scalar(self.adv_buf)\n",
    "        # adv_mean, adv_std = np.mean(self.adv_buf), np.std(self.adv_buf)\n",
    "        self.adv_buf = (self.adv_buf - adv_mean) / adv_std\n",
    "        return [self.obs_buf, self.act_buf, self.adv_buf, self.ret_buf, self.logp_buf]\n",
    "\n",
    "    def _combined_shape(\n",
    "        self, length: Union[int, np.array], shape: Optional[Union[int, tuple]] = None\n",
    "    ):\n",
    "        \"\"\"\n",
    "        Return tuple of combined shapes from input length and tuple describing shape.\n",
    "\n",
    "        Args:\n",
    "        - length (int or np.array): Length of resultant shape.\n",
    "        - shape (int or tuple): Other shape dimensions to combine.\n",
    "\n",
    "        Returns:\n",
    "        - tuple of shape dimensions\n",
    "        \"\"\"\n",
    "        if shape is None:\n",
    "            return (length,)\n",
    "        return (length, shape) if np.isscalar(shape) else (length, *shape)\n",
    "\n",
    "    def _discount_cumsum(self, x: np.array, discount: float):\n",
    "        \"\"\"\n",
    "        magic from rllab for computing discounted cumulative sums of vectors.\n",
    "        input:\n",
    "            vector x,\n",
    "            [x0,\n",
    "            x1,\n",
    "            x2]\n",
    "        output:\n",
    "            [x0 + discount * x1 + discount^2 * x2,\n",
    "            x1 + discount * x2,\n",
    "            x2]\n",
    "        \"\"\"\n",
    "        return scipy.signal.lfilter([1], [1, float(-discount)], x[::-1], axis=0)[::-1]"
   ]
  },
  {
   "cell_type": "code",
   "execution_count": null,
   "metadata": {},
   "outputs": [
    {
     "data": {
      "text/markdown": [
       "<h2 id=\"PGBuffer\" class=\"doc_header\"><code>class</code> <code>PGBuffer</code><a href=\"\" class=\"source_link\" style=\"float:right\">[source]</a></h2>\n",
       "\n",
       "> <code>PGBuffer</code>(**`obs_dim`**:`Union`\\[`tuple`, `int`\\], **`act_dim`**:`Union`\\[`tuple`, `int`\\], **`size`**:`int`, **`gamma`**:`Optional`\\[`float`\\]=*`0.99`*, **`lam`**:`Optional`\\[`float`\\]=*`0.95`*)\n",
       "\n",
       "A buffer for storing trajectories experienced by an agent interacting\n",
       "with the environment, and using Generalized Advantage Estimation (GAE-Lambda)\n",
       "for calculating the advantages of state-action pairs.\n",
       "\n",
       "This class was written by Joshua Achaim at OpenAI.\n",
       "\n",
       "Args:\n",
       "- obs_dim (tuple or int): Dimensionality of input feature space.\n",
       "- act_dim (tuple or int): Dimensionality of action space.\n",
       "- size (int): buffer size.\n",
       "- gamma (float): reward discount factor.\n",
       "- lam (float): Lambda parameter for GAE-Lambda advantage estimation"
      ],
      "text/plain": [
       "<IPython.core.display.Markdown object>"
      ]
     },
     "metadata": {},
     "output_type": "display_data"
    }
   ],
   "source": [
    "show_doc(PGBuffer)"
   ]
  },
  {
   "cell_type": "code",
   "execution_count": null,
   "metadata": {},
   "outputs": [
    {
     "data": {
      "text/markdown": [
       "<h4 id=\"PGBuffer.store\" class=\"doc_header\"><code>PGBuffer.store</code><a href=\"__main__.py#L35\" class=\"source_link\" style=\"float:right\">[source]</a></h4>\n",
       "\n",
       "> <code>PGBuffer.store</code>(**`obs`**:`array`, **`act`**:`array`, **`rew`**:`Union`\\[`int`, `float`, `array`\\], **`val`**:`Union`\\[`int`, `float`, `array`\\], **`logp`**:`Union`\\[`float`, `array`\\])\n",
       "\n",
       "Append one timestep of agent-environment interaction to the buffer.\n",
       "\n",
       "Args:\n",
       "- obs (np.array): Current observation to store.\n",
       "- act (np.array): Current action.\n",
       "- rew (int or float or np.array): Current reward from environment.\n",
       "- val (int or float or np.array): Value estimate for the current state.\n",
       "- logp (float or np.array): log probability of chosen action under current policy distribution."
      ],
      "text/plain": [
       "<IPython.core.display.Markdown object>"
      ]
     },
     "metadata": {},
     "output_type": "display_data"
    }
   ],
   "source": [
    "show_doc(PGBuffer.store)"
   ]
  },
  {
   "cell_type": "code",
   "execution_count": null,
   "metadata": {},
   "outputs": [
    {
     "data": {
      "text/markdown": [
       "<h4 id=\"PGBuffer.get\" class=\"doc_header\"><code>PGBuffer.get</code><a href=\"__main__.py#L92\" class=\"source_link\" style=\"float:right\">[source]</a></h4>\n",
       "\n",
       "> <code>PGBuffer.get</code>()\n",
       "\n",
       "Call this at the end of an epoch to get all of the data from\n",
       "the buffer, with advantages appropriately normalized (shifted to have\n",
       "mean zero and std one). Also, resets some pointers in the buffer."
      ],
      "text/plain": [
       "<IPython.core.display.Markdown object>"
      ]
     },
     "metadata": {},
     "output_type": "display_data"
    }
   ],
   "source": [
    "show_doc(PGBuffer.get)"
   ]
  },
  {
   "cell_type": "code",
   "execution_count": null,
   "metadata": {},
   "outputs": [
    {
     "data": {
      "text/markdown": [
       "<h4 id=\"PGBuffer.finish_path\" class=\"doc_header\"><code>PGBuffer.finish_path</code><a href=\"__main__.py#L61\" class=\"source_link\" style=\"float:right\">[source]</a></h4>\n",
       "\n",
       "> <code>PGBuffer.finish_path</code>(**`last_val`**:`Union`\\[`int`, `float`, `array`, `NoneType`\\]=*`0`*)\n",
       "\n",
       "Call this at the end of a trajectory, or when one gets cut off\n",
       "by an epoch ending. This looks back in the buffer to where the\n",
       "trajectory started, and uses rewards and value estimates from\n",
       "the whole trajectory to compute advantage estimates with GAE-Lambda,\n",
       "as well as compute the rewards-to-go for each state, to use as\n",
       "the targets for the value function.\n",
       "The \"last_val\" argument should be 0 if the trajectory ended\n",
       "because the agent reached a terminal state (died), and otherwise\n",
       "should be V(s_T), the value function estimated for the last state.\n",
       "This allows us to bootstrap the reward-to-go calculation to account\n",
       "for timesteps beyond the arbitrary episode horizon (or epoch cutoff).\n",
       "\n",
       "Args:\n",
       "- last_val (int or float or np.array): Estimate of rewards-to-go. If trajectory ended, is 0."
      ],
      "text/plain": [
       "<IPython.core.display.Markdown object>"
      ]
     },
     "metadata": {},
     "output_type": "display_data"
    }
   ],
   "source": [
    "show_doc(PGBuffer.finish_path)"
   ]
  },
  {
   "cell_type": "code",
   "execution_count": null,
   "metadata": {},
   "outputs": [],
   "source": [
    "%nbdev_export\n",
    "\n",
    "class ReplayBuffer(PGBuffer):\n",
    "    \"\"\"\n",
    "    A replay buffer for off-policy RL agents.\n",
    "\n",
    "    This class is borrowed from OpenAI's SpinningUp package: https://spinningup.openai.com/en/latest/\n",
    "\n",
    "    Args:\n",
    "    - obs_dim (tuple or int): Dimensionality of input feature space.\n",
    "    - act_dim (tuple or int): Dimensionality of action space.\n",
    "    - size (int): buffer size.\n",
    "    \"\"\"\n",
    "\n",
    "    def __init__(\n",
    "        self, obs_dim: Union[tuple, int], act_dim: Union[tuple, int], size: int\n",
    "    ):\n",
    "        self.obs1_buf = np.zeros(self._combined_shape(size, obs_dim), dtype=np.float32)\n",
    "        self.obs2_buf = np.zeros(self._combined_shape(size, obs_dim), dtype=np.float32)\n",
    "        self.act_buf = np.zeros(self._combined_shape(size, act_dim), dtype=np.float32)\n",
    "        self.rew_buf = np.zeros(size, dtype=np.float32)\n",
    "        self.done_buf = np.zeros(size, dtype=np.float32)\n",
    "        self.ptr, self.size, self.max_size = 0, 0, size\n",
    "\n",
    "    def store(\n",
    "        self,\n",
    "        obs: np.array,\n",
    "        act: Union[float, int, np.array],\n",
    "        rew: Union[float, int],\n",
    "        next_obs: np.array,\n",
    "        done: bool,\n",
    "    ):\n",
    "        \"\"\"\n",
    "        Append one timestep of agent-environment interaction to the buffer.\n",
    "\n",
    "        Args:\n",
    "        - obs (np.array): Current observations.\n",
    "        - act (float or int or np.array): Current action.\n",
    "        - rew (float or int): Current reward\n",
    "        - next_obs (np.array): Observations from next environment step.\n",
    "        - done (bool): Whether the episode has reached a terminal state.\n",
    "        \"\"\"\n",
    "        self.obs1_buf[self.ptr] = obs\n",
    "        self.obs2_buf[self.ptr] = next_obs\n",
    "        self.act_buf[self.ptr] = act\n",
    "        self.rew_buf[self.ptr] = rew\n",
    "        self.done_buf[self.ptr] = done\n",
    "        self.ptr = (self.ptr + 1) % self.max_size\n",
    "        self.size = min(self.size + 1, self.max_size)\n",
    "\n",
    "    def sample_batch(self, batch_size: Optional[int] = 32):\n",
    "        \"\"\"\n",
    "        Sample a batch of agent-environment interaction from the buffer.\n",
    "\n",
    "        Args:\n",
    "        - batch_size (int): Number of interactions to sample for the batch.\n",
    "\n",
    "        Returns:\n",
    "        - tuple of batch tensors\n",
    "        \"\"\"\n",
    "        idxs = np.random.randint(0, self.size, size=batch_size)\n",
    "        batch = dict(\n",
    "            obs=self.obs1_buf[idxs],\n",
    "            obs2=self.obs2_buf[idxs],\n",
    "            act=self.act_buf[idxs],\n",
    "            rew=self.rew_buf[idxs],\n",
    "            done=self.done_buf[idxs],\n",
    "        )\n",
    "        return tuple(torch.as_tensor(v, dtype=torch.float32) for _, v in batch.items())\n",
    "\n",
    "    def get(self):\n",
    "        \"\"\"\n",
    "        Get all contents of the batch.\n",
    "\n",
    "        Returns:\n",
    "        - list of numpy arrays; full contents of the buffer.\n",
    "        \"\"\"\n",
    "        return [self.obs1_buf, self.obs2_buf, self.act_buf, self.rew_buf, self.done_buf]"
   ]
  },
  {
   "cell_type": "code",
   "execution_count": null,
   "metadata": {},
   "outputs": [
    {
     "data": {
      "text/markdown": [
       "<h2 id=\"ReplayBuffer\" class=\"doc_header\"><code>class</code> <code>ReplayBuffer</code><a href=\"\" class=\"source_link\" style=\"float:right\">[source]</a></h2>\n",
       "\n",
       "> <code>ReplayBuffer</code>(**`obs_dim`**:`Union`\\[`tuple`, `int`\\], **`act_dim`**:`Union`\\[`tuple`, `int`\\], **`size`**:`int`) :: [`PGBuffer`](/rl_bolts/buffers#PGBuffer)\n",
       "\n",
       "A replay buffer for off-policy RL agents.\n",
       "\n",
       "This class is borrowed from OpenAI's SpinningUp package: https://spinningup.openai.com/en/latest/\n",
       "\n",
       "Args:\n",
       "- obs_dim (tuple or int): Dimensionality of input feature space.\n",
       "- act_dim (tuple or int): Dimensionality of action space.\n",
       "- size (int): buffer size."
      ],
      "text/plain": [
       "<IPython.core.display.Markdown object>"
      ]
     },
     "metadata": {},
     "output_type": "display_data"
    }
   ],
   "source": [
    "show_doc(ReplayBuffer)"
   ]
  },
  {
   "cell_type": "code",
   "execution_count": null,
   "metadata": {},
   "outputs": [
    {
     "data": {
      "text/markdown": [
       "<h4 id=\"ReplayBuffer.store\" class=\"doc_header\"><code>ReplayBuffer.store</code><a href=\"__main__.py#L25\" class=\"source_link\" style=\"float:right\">[source]</a></h4>\n",
       "\n",
       "> <code>ReplayBuffer.store</code>(**`obs`**:`array`, **`act`**:`Union`\\[`float`, `int`, `array`\\], **`rew`**:`Union`\\[`float`, `int`\\], **`next_obs`**:`array`, **`done`**:`bool`)\n",
       "\n",
       "Append one timestep of agent-environment interaction to the buffer.\n",
       "\n",
       "Args:\n",
       "- obs (np.array): Current observations.\n",
       "- act (float or int or np.array): Current action.\n",
       "- rew (float or int): Current reward\n",
       "- next_obs (np.array): Observations from next environment step.\n",
       "- done (bool): Whether the episode has reached a terminal state."
      ],
      "text/plain": [
       "<IPython.core.display.Markdown object>"
      ]
     },
     "metadata": {},
     "output_type": "display_data"
    }
   ],
   "source": [
    "show_doc(ReplayBuffer.store)"
   ]
  },
  {
   "cell_type": "code",
   "execution_count": null,
   "metadata": {},
   "outputs": [
    {
     "data": {
      "text/markdown": [
       "<h4 id=\"ReplayBuffer.sample_batch\" class=\"doc_header\"><code>ReplayBuffer.sample_batch</code><a href=\"__main__.py#L51\" class=\"source_link\" style=\"float:right\">[source]</a></h4>\n",
       "\n",
       "> <code>ReplayBuffer.sample_batch</code>(**`batch_size`**:`Optional`\\[`int`\\]=*`32`*)\n",
       "\n",
       "Sample a batch of agent-environment interaction from the buffer.\n",
       "\n",
       "Args:\n",
       "- batch_size (int): Number of interactions to sample for the batch.\n",
       "\n",
       "Returns:\n",
       "- tuple of batch tensors"
      ],
      "text/plain": [
       "<IPython.core.display.Markdown object>"
      ]
     },
     "metadata": {},
     "output_type": "display_data"
    }
   ],
   "source": [
    "show_doc(ReplayBuffer.sample_batch)"
   ]
  },
  {
   "cell_type": "code",
   "execution_count": null,
   "metadata": {},
   "outputs": [
    {
     "data": {
      "text/markdown": [
       "<h4 id=\"ReplayBuffer.get\" class=\"doc_header\"><code>ReplayBuffer.get</code><a href=\"__main__.py#L71\" class=\"source_link\" style=\"float:right\">[source]</a></h4>\n",
       "\n",
       "> <code>ReplayBuffer.get</code>()\n",
       "\n",
       "Get all contents of the batch.\n",
       "\n",
       "Returns:\n",
       "- list of numpy arrays; full contents of the buffer."
      ],
      "text/plain": [
       "<IPython.core.display.Markdown object>"
      ]
     },
     "metadata": {},
     "output_type": "display_data"
    }
   ],
   "source": [
    "show_doc(ReplayBuffer.get)"
   ]
  },
  {
   "cell_type": "code",
   "execution_count": null,
   "metadata": {},
   "outputs": [
    {
     "name": "stdout",
     "output_type": "stream",
     "text": [
      "Converted 00_utils.ipynb.\n",
      "Converted 01_datasets.ipynb.\n",
      "Converted 02_buffers.ipynb.\n",
      "Converted 03_neuralnets.ipynb.\n",
      "Converted index.ipynb.\n"
     ]
    }
   ],
   "source": [
    "#hide\n",
    "notebook2script()"
   ]
  },
  {
   "cell_type": "code",
   "execution_count": null,
   "metadata": {},
   "outputs": [],
   "source": []
  }
 ],
 "metadata": {
  "kernelspec": {
   "display_name": "Python 3",
   "language": "python",
   "name": "python3"
  }
 },
 "nbformat": 4,
 "nbformat_minor": 4
}
