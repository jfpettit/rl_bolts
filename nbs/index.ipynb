{
 "cells": [
  {
   "cell_type": "code",
   "execution_count": null,
   "metadata": {},
   "outputs": [],
   "source": [
    "#hide\n",
    "from rl_bolts.utils import *"
   ]
  },
  {
   "cell_type": "markdown",
   "metadata": {},
   "source": [
    "# rl_bolts \n",
    "\n",
    "> rl_bolts is intended to be a package of nuts and bolts of RL algorithms, along with some full implementations of RL algorithms. "
   ]
  },
  {
   "cell_type": "markdown",
   "metadata": {},
   "source": [
    "rl_bolts is starting as a package of just nuts and bolts of RL, and algorithms (and new nuts and bolts) will be added over time, based on necessity."
   ]
  },
  {
   "cell_type": "markdown",
   "metadata": {},
   "source": [
    "## Install"
   ]
  },
  {
   "cell_type": "markdown",
   "metadata": {},
   "source": [
    "`git clone https://github.com/jfpettit/rl_bolts.git`\n",
    "\n",
    "`cd rl_bolts`\n",
    "\n",
    "`pip install -e .`"
   ]
  },
  {
   "cell_type": "markdown",
   "metadata": {},
   "source": [
    "## How to use"
   ]
  },
  {
   "cell_type": "markdown",
   "metadata": {},
   "source": [
    "Import the bits you need to use in your code.\n",
    "\n",
    "The bit below sets up an actor-critic network for the CartPole-v1 gym environment."
   ]
  },
  {
   "cell_type": "code",
   "execution_count": null,
   "metadata": {},
   "outputs": [],
   "source": [
    "import rl_bolts.neuralnets as nns\n",
    "import gym\n",
    "import torch"
   ]
  },
  {
   "cell_type": "code",
   "execution_count": null,
   "metadata": {},
   "outputs": [],
   "source": [
    "env = gym.make(\"CartPole-v1\")\n",
    "actor_critic = nns.ActorCritic(\n",
    "    env.observation_space.shape[0],\n",
    "    env.action_space\n",
    ")"
   ]
  },
  {
   "cell_type": "markdown",
   "metadata": {},
   "source": [
    "We can print out the architecture of our actor_critic net below:"
   ]
  },
  {
   "cell_type": "code",
   "execution_count": null,
   "metadata": {},
   "outputs": [
    {
     "data": {
      "text/plain": [
       "ActorCritic(\n",
       "  (policy): CategoricalPolicy(\n",
       "    (net): MLP(\n",
       "      (layers): ModuleList(\n",
       "        (0): Linear(in_features=4, out_features=32, bias=True)\n",
       "        (1): Linear(in_features=32, out_features=32, bias=True)\n",
       "        (2): Linear(in_features=32, out_features=2, bias=True)\n",
       "      )\n",
       "    )\n",
       "  )\n",
       "  (value_f): MLP(\n",
       "    (layers): ModuleList(\n",
       "      (0): Linear(in_features=4, out_features=32, bias=True)\n",
       "      (1): Linear(in_features=32, out_features=32, bias=True)\n",
       "      (2): Linear(in_features=32, out_features=1, bias=True)\n",
       "    )\n",
       "  )\n",
       ")"
      ]
     },
     "execution_count": null,
     "metadata": {},
     "output_type": "execute_result"
    }
   ],
   "source": [
    "actor_critic"
   ]
  },
  {
   "cell_type": "code",
   "execution_count": null,
   "metadata": {},
   "outputs": [],
   "source": [
    "obs = env.reset()\n",
    "action, logp, value = actor_critic.step(torch.as_tensor(obs, dtype=torch.float32))"
   ]
  },
  {
   "cell_type": "markdown",
   "metadata": {},
   "source": [
    "The cell above starts the environment in a new episode, and passes it through the actor-critic to get an action, action log probability, and value estimate for the state."
   ]
  },
  {
   "cell_type": "code",
   "execution_count": null,
   "metadata": {},
   "outputs": [
    {
     "name": "stdout",
     "output_type": "stream",
     "text": [
      "action 1\n",
      "logp -0.8437294\n",
      "value 0.09548707\n"
     ]
    }
   ],
   "source": [
    "print(\"action\", action)\n",
    "print(\"logp\", logp)\n",
    "print(\"value\", value)"
   ]
  }
 ],
 "metadata": {
  "kernelspec": {
   "display_name": "Python 3",
   "language": "python",
   "name": "python3"
  }
 },
 "nbformat": 4,
 "nbformat_minor": 4
}
